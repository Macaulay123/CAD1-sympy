{
 "cells": [
  {
   "cell_type": "markdown",
   "metadata": {},
   "source": [
    "# Case study - Trajectory of a projectile"
   ]
  },
  {
   "cell_type": "code",
   "execution_count": 3,
   "metadata": {
    "collapsed": true
   },
   "outputs": [],
   "source": [
    "%matplotlib inline\n",
    "import matplotlib.pyplot as plt\n",
    "from sympy import * \n",
    "init_printing(use_unicode=True)\n",
    "import numpy as np "
   ]
  },
  {
   "cell_type": "markdown",
   "metadata": {
    "collapsed": true
   },
   "source": [
    "## Objectives\n",
    "* Study characteristics of the trajectory of a projectile in the ideal case of a motion in a uniform gravitational field\n",
    " ![](./trajectory_of_projectile.png)"
   ]
  },
  {
   "cell_type": "markdown",
   "metadata": {},
   "source": [
    "## 1. Equation of the trajectory\n",
    "\n",
    "In the ideal case of a motion in a uniform gravitational field, in the absence of other forces (such as air drag), the trajectory of a projectile is described by a parabola given by:\n",
    "\n",
    "eq(1) :$$ z(x) = -\\frac{1}{2}g\\frac{x^2}{v^{2}_{0} \\cos^2 \\alpha} + x\\tan \\alpha + h $$  \n",
    "\n",
    "where $g$ is the acceleration of gravity (9.81 $ms^{−2}$ ), $v_{0}$ is the initial velocity of the projectile, $\\alpha$ is the angle of elevation and $h$ is the initial altitude from which the projectile is thrown.\n",
    "\n",
    "\n"
   ]
  },
  {
   "cell_type": "markdown",
   "metadata": {},
   "source": [
    "\n",
    "* Q1.1 - Create a function that represents equation (1)."
   ]
  },
  {
   "cell_type": "code",
   "execution_count": 4,
   "metadata": {
    "collapsed": true
   },
   "outputs": [],
   "source": [
    "from sympy import * \n",
    "import numpy as np \n",
    "g, x, v0, alpha, h = symbols('g, x, v0, alpha , h', positive=True)\n",
    "\n",
    "facts = Q.positive(x), Q.positive(v0), Q.positive(alpha), Q.positive(h)"
   ]
  },
  {
   "cell_type": "code",
   "execution_count": 5,
   "metadata": {},
   "outputs": [
    {
     "data": {
      "image/png": "[encoded data removed]",
      "text/latex": [
       "$$- \\frac{g x^{2}}{2 v_{0}^{2} \\cos^{2}{\\left (\\alpha \\right )}} + h + x \\tan{\\left (\\alpha \\right )}$$"
      ],
      "text/plain": [
       "          2                   \n",
       "       g⋅x                    \n",
       "- ───────────── + h + x⋅tan(α)\n",
       "      2    2                  \n",
       "  2⋅v₀ ⋅cos (α)               "
      ]
     },
     "execution_count": 5,
     "metadata": {},
     "output_type": "execute_result"
    }
   ],
   "source": [
    "z = (-g*x**2/(2*(v0**2)*(cos(alpha)*cos(alpha))))+ x*tan(alpha)+h\n",
    "z"
   ]
  },
  {
   "cell_type": "markdown",
   "metadata": {},
   "source": [
    "\n",
    "* Q 1.2 - Plot the trajectory for the following set of parameters\n",
    "    * $h = 1.70m$\n",
    "    * $\\alpha = 40^{\\circ}$\n",
    "    * $ v_{0} = 8 ms^{−1}$"
   ]
  },
  {
   "cell_type": "code",
   "execution_count": 6,
   "metadata": {
    "scrolled": true
   },
   "outputs": [
    {
     "data": {
      "image/png": "[encoded data removed]",
      "text/latex": [
       "$$- 0.130602384016567 x^{2} + 0.83909963117728 x + 1.7$$"
      ],
      "text/plain": [
       "                     2                           \n",
       "- 0.130602384016567⋅x  + 0.83909963117728⋅x + 1.7"
      ]
     },
     "execution_count": 6,
     "metadata": {},
     "output_type": "execute_result"
    }
   ],
   "source": [
    "z1 = z.subs({g:9.81, alpha:np.deg2rad(40), h:1.70,v0:8})\n",
    "z1"
   ]
  },
  {
   "cell_type": "code",
   "execution_count": 7,
   "metadata": {},
   "outputs": [
    {
     "data": {
      "image/png": "[encoded data removed]",
      "text/plain": [
       "<matplotlib.figure.Figure at 0x7f5683815b50>"
      ]
     },
     "metadata": {},
     "output_type": "display_data"
    },
    {
     "data": {
      "text/plain": [
       "<sympy.plotting.plot.Plot at 0x7f5683508c50>"
      ]
     },
     "execution_count": 7,
     "metadata": {},
     "output_type": "execute_result"
    }
   ],
   "source": [
    "plot(z1, (x, 0, 10))"
   ]
  },
  {
   "cell_type": "markdown",
   "metadata": {},
   "source": [
    "* Q 1.3 - On the same graph, plot several trajectories of projectile launched at different elevation angles but with the same speed v0 = 8ms−1 and the same initial altitude h = 1.70m."
   ]
  },
  {
   "cell_type": "code",
   "execution_count": 29,
   "metadata": {
    "scrolled": true
   },
   "outputs": [],
   "source": [
    "def f(g, x, v0, alpha , h):\n",
    "   return (-g*x**2/(2*(v0**2)*(cos(alpha)*cos(alpha))))+ x*tan(alpha)+h"
   ]
  },
  {
   "cell_type": "code",
   "execution_count": 21,
   "metadata": {},
   "outputs": [
    {
     "data": {
      "image/png": "[encoded data removed]",
      "text/plain": [
       "<matplotlib.figure.Figure at 0x7f56831d61d0>"
      ]
     },
     "metadata": {},
     "output_type": "display_data"
    }
   ],
   "source": [
    "p1=f(9.81, x, 8, np.deg2rad(10), 1.70)\n",
    "p2=f(9.81, x, 8, np.deg2rad(20), 1.70)\n",
    "p3=f(9.81, x, 8, np.deg2rad(30), 1.70)\n",
    "p4=f(9.81, x, 8, np.deg2rad(40), 1.70)\n",
    "zr=plot(p1, p2, p3, p4, (x, 0, 10), show=False, title = 'projectile path for different value of alpha', legend = ['a'], loc=3)\n",
    "zr[0].line_color = 'r', \n",
    "zr[1].line_color = 'b'\n",
    "zr[2].line_color = 'k'\n",
    "zr[3].line_color = 'c'\n",
    "\n",
    "zr.show()"
   ]
  },
  {
   "cell_type": "markdown",
   "metadata": {},
   "source": [
    "## 2. Trajectory analysis\n"
   ]
  },
  {
   "cell_type": "markdown",
   "metadata": {},
   "source": [
    "* Q 2.1 - Determine a function $f_h(\\alpha, v_0 , h)$ that returns the greatest parabolic height a object reaches within its trajectory.\n",
    "\n"
   ]
  },
  {
   "cell_type": "code",
   "execution_count": 25,
   "metadata": {},
   "outputs": [
    {
     "data": {
      "image/png": "[encoded data removed]",
      "text/latex": [
       "$$h + x \\tan{\\left (\\alpha \\right )} - \\frac{4.905 x^{2}}{v_{0}^{2} \\cos^{2}{\\left (\\alpha \\right )}}$$"
      ],
      "text/plain": [
       "                        2 \n",
       "                 4.905⋅x  \n",
       "h + x⋅tan(α) - ───────────\n",
       "                 2    2   \n",
       "               v₀ ⋅cos (α)"
      ]
     },
     "execution_count": 25,
     "metadata": {},
     "output_type": "execute_result"
    }
   ],
   "source": [
    "f(9.81, x, v0, alpha , h)"
   ]
  },
  {
   "cell_type": "code",
   "execution_count": 37,
   "metadata": {},
   "outputs": [
    {
     "name": "stdout",
     "output_type": "stream",
     "text": [
      "tan(alpha) - 9.81*x/(v0**2*cos(alpha)**2)\n"
     ]
    },
    {
     "data": {
      "image/png": "[encoded data removed]",
      "text/latex": [
       "$$\\left\\{0.101936799184506 v_{0}^{2} \\cos^{2}{\\left (\\alpha \\right )} \\tan{\\left (\\alpha \\right )}\\right\\}$$"
      ],
      "text/plain": [
       "⎧                    2    2          ⎫\n",
       "⎨0.101936799184506⋅v₀ ⋅cos (α)⋅tan(α)⎬\n",
       "⎩                                    ⎭"
      ]
     },
     "execution_count": 37,
     "metadata": {},
     "output_type": "execute_result"
    }
   ],
   "source": [
    "fd=diff(f(9.81, x, v0, alpha , h), x)\n",
    "print (fd)\n",
    "fh = solveset(fd, x, domain=S.Reals)\n",
    "fh"
   ]
  },
  {
   "cell_type": "markdown",
   "metadata": {},
   "source": [
    "* Q 2.2 - Determine a function $f_R(\\alpha, v_0, h)$ that gives the range defined by the greatest distance aobject travels\n",
    "along the x axis."
   ]
  },
  {
   "cell_type": "code",
   "execution_count": 38,
   "metadata": {},
   "outputs": [
    {
     "data": {
      "image/png": "[encoded data removed]",
      "text/latex": [
       "$$0.0101936799184506 v_{0} \\left(10.0 v_{0} \\sin{\\left (\\alpha \\right )} + \\sqrt{1962.0 h + 100.0 v_{0}^{2} \\sin^{2}{\\left (\\alpha \\right )}}\\right) \\cos{\\left (\\alpha \\right )}$$"
      ],
      "text/plain": [
       "                      ⎛                    ______________________________⎞    \n",
       "                      ⎜                   ╱                    2    2    ⎟    \n",
       "0.0101936799184506⋅v₀⋅⎝10.0⋅v₀⋅sin(α) + ╲╱  1962.0⋅h + 100.0⋅v₀ ⋅sin (α) ⎠⋅cos\n",
       "\n",
       "   \n",
       "   \n",
       "(α)"
      ]
     },
     "execution_count": 38,
     "metadata": {},
     "output_type": "execute_result"
    }
   ],
   "source": [
    "s = solve(f(9.81, x, v0, alpha, h), x) \n",
    "fR"
   ]
  },
  {
   "cell_type": "markdown",
   "metadata": {},
   "source": [
    "* Q 2.3 - Illustrate with a graphic that an optimal value of $\\alpha$ provides the highest range.\n",
    "\n"
   ]
  },
  {
   "cell_type": "code",
   "execution_count": 60,
   "metadata": {
    "collapsed": true
   },
   "outputs": [],
   "source": [
    "gR = diff(fR, alpha)"
   ]
  },
  {
   "cell_type": "code",
   "execution_count": 61,
   "metadata": {},
   "outputs": [
    {
     "data": {
      "image/png": "[encoded data removed]",
      "text/plain": [
       "<matplotlib.figure.Figure at 0x7fea69aa8690>"
      ]
     },
     "metadata": {},
     "output_type": "display_data"
    },
    {
     "data": {
      "text/plain": [
       "<sympy.plotting.plot.Plot at 0x7fea69a4c310>"
      ]
     },
     "execution_count": 61,
     "metadata": {},
     "output_type": "execute_result"
    }
   ],
   "source": [
    "plot(gR.subs({v0:8, h:1.7}), (alpha, 0, pi/2))"
   ]
  },
  {
   "cell_type": "markdown",
   "metadata": {},
   "source": [
    "* Q 2.4 - Try to find a symbolic solution of $\\alpha$ optimum . Give an numeric solution for the set of parameters defined in section 1.\n"
   ]
  },
  {
   "cell_type": "code",
   "execution_count": 62,
   "metadata": {},
   "outputs": [
    {
     "name": "stdout",
     "output_type": "stream",
     "text": [
      "('alpha in radian ', 0.681290966881072)\n",
      "('alpha in degree', 39.035097022672559)\n"
     ]
    }
   ],
   "source": [
    "alpha_optimum = solve(gR.subs({v0:8, h:1.7}), alpha)\n",
    "print('alpha in radian ', alpha_optimum[0])\n",
    "print('alpha in degree' , np.rad2deg(float(alpha_optimum[0])))"
   ]
  },
  {
   "cell_type": "markdown",
   "metadata": {},
   "source": [
    "\n",
    "* Q 2.5 - In the specific case where $h$ = 0, give an algebraic solution of $\\alpha$ optimum ."
   ]
  },
  {
   "cell_type": "code",
   "execution_count": 64,
   "metadata": {},
   "outputs": [
    {
     "data": {
      "image/png": "[encoded data removed]",
      "text/latex": [
       "$$\\left [ 0.785398163397448, \\quad 2.35619449019234\\right ]$$"
      ],
      "text/plain": [
       "[0.785398163397448, 2.35619449019234]"
      ]
     },
     "execution_count": 64,
     "metadata": {},
     "output_type": "execute_result"
    }
   ],
   "source": [
    "ans = solve(gR.subs({h:0}), alpha)\n",
    "ans"
   ]
  },
  {
   "cell_type": "markdown",
   "metadata": {},
   "source": [
    "## 3. Starting from scratch\n"
   ]
  },
  {
   "cell_type": "markdown",
   "metadata": {},
   "source": [
    "Consider a particle of mass $m$, the Newton second law states:\n",
    "$$F = ma$$\n",
    "where $F$ and $a$ represent respectively the sum of forces and the acceleration of the projectile. \n",
    "Since we only consider the ideal case with $F = m\\overrightarrow{g} = −mg\\overrightarrow{z}$. \n",
    "Therefore, if we only consider the trajectory of in the plane $O\\overrightarrow{x}\\overrightarrow{z}$\n",
    "\n",
    "\n",
    "we can write the coordinate of the mobile $M$ according to $\\overrightarrow{OM}= \n",
    "\\begin{pmatrix} \n",
    "  x \\\\\n",
    "  z \n",
    "\\end{pmatrix}$\n",
    "\n",
    "eq(2):\n",
    "$$\\begin{pmatrix} \n",
    "  0 \\\\\n",
    "  -g \n",
    "\\end{pmatrix} = \\frac{d^2 \\overrightarrow{OM}}{dt^2} = \n",
    "\\begin{pmatrix} \n",
    "  \\frac{d^2 x}{dt^2} \\\\\n",
    "  \\frac{d^2 z}{dt^2}\n",
    "\\end{pmatrix}$$"
   ]
  },
  {
   "cell_type": "markdown",
   "metadata": {},
   "source": [
    "* Q 3.1 - By integrating equation (2) and using correct initial constant, compute the two equations $x(t)$ and $z(t)$.\n"
   ]
  },
  {
   "cell_type": "code",
   "execution_count": 65,
   "metadata": {},
   "outputs": [
    {
     "data": {
      "image/png": "[encoded data removed]",
      "text/latex": [
       "$$\\left ( \\frac{d^{2}}{d t^{2}}  x{\\left (t \\right )} = 0, \\quad \\frac{d^{2}}{d t^{2}}  z{\\left (t \\right )} = - g\\right )$$"
      ],
      "text/plain": [
       "⎛  2              2           ⎞\n",
       "⎜ d              d            ⎟\n",
       "⎜───(x(t)) = 0, ───(z(t)) = -g⎟\n",
       "⎜  2              2           ⎟\n",
       "⎝dt             dt            ⎠"
      ]
     },
     "execution_count": 65,
     "metadata": {},
     "output_type": "execute_result"
    }
   ],
   "source": [
    "t = symbols('t')\n",
    "x = Function('x')\n",
    "z = Function('z')\n",
    "eqx = Eq(x(t).diff(t, 2))\n",
    "eqz = Eq(z(t).diff(t, 2), -g)\n",
    "\n",
    "eqx, eqz"
   ]
  },
  {
   "cell_type": "code",
   "execution_count": 66,
   "metadata": {},
   "outputs": [
    {
     "data": {
      "image/png": "[encoded data removed]",
      "text/latex": [
       "$$z{\\left (t \\right )} = C_{1} + C_{2} t - \\frac{g t^{2}}{2}$$"
      ],
      "text/plain": [
       "                      2\n",
       "                   g⋅t \n",
       "z(t) = C₁ + C₂⋅t - ────\n",
       "                    2  "
      ]
     },
     "execution_count": 66,
     "metadata": {},
     "output_type": "execute_result"
    }
   ],
   "source": [
    "e = dsolve(eqz, z(t))\n",
    "e"
   ]
  },
  {
   "cell_type": "code",
   "execution_count": 67,
   "metadata": {},
   "outputs": [
    {
     "data": {
      "image/png": "[encoded data removed]",
      "text/latex": [
       "$$z{\\left (t \\right )} = - \\frac{g t^{2}}{2} + h + t v_{0}$$"
      ],
      "text/plain": [
       "            2           \n",
       "         g⋅t            \n",
       "z(t) = - ──── + h + t⋅v₀\n",
       "          2             "
      ]
     },
     "execution_count": 67,
     "metadata": {},
     "output_type": "execute_result"
    }
   ],
   "source": [
    "C1, C2 = symbols('C1, C2')\n",
    "e.subs({C1:h, C2:v0})"
   ]
  },
  {
   "cell_type": "code",
   "execution_count": 68,
   "metadata": {},
   "outputs": [
    {
     "data": {
      "image/png": "[encoded data removed]",
      "text/latex": [
       "$$x{\\left (t \\right )} = t v_{0} + x_{0}$$"
      ],
      "text/plain": [
       "x(t) = t⋅v₀ + x₀"
      ]
     },
     "execution_count": 68,
     "metadata": {},
     "output_type": "execute_result"
    }
   ],
   "source": [
    "x0 = symbols('x0')\n",
    "s = dsolve(eqx, x(t))\n",
    "s.subs({C1:x0, C2:v0})"
   ]
  },
  {
   "cell_type": "code",
   "execution_count": 69,
   "metadata": {},
   "outputs": [
    {
     "data": {
      "image/png": "[encoded data removed]",
      "text/latex": [
       "$$\\left ( \\frac{d}{d t} x{\\left (t \\right )}, \\quad x{\\left (t \\right )}\\right )$$"
      ],
      "text/plain": [
       "⎛d             ⎞\n",
       "⎜──(x(t)), x(t)⎟\n",
       "⎝dt            ⎠"
      ]
     },
     "execution_count": 69,
     "metadata": {},
     "output_type": "execute_result"
    }
   ],
   "source": [
    "eqx1 = integrate(x(t).diff(t, 2), t)\n",
    "eqx2 = integrate(eqx1, t)\n",
    "eqx1, eqx2"
   ]
  },
  {
   "cell_type": "code",
   "execution_count": 70,
   "metadata": {},
   "outputs": [
    {
     "data": {
      "image/png": "[encoded data removed]",
      "text/latex": [
       "$$\\left ( g t + \\frac{d}{d t} z{\\left (t \\right )}, \\quad \\frac{g t^{2}}{2} + z{\\left (t \\right )}\\right )$$"
      ],
      "text/plain": [
       "⎛                   2       ⎞\n",
       "⎜      d         g⋅t        ⎟\n",
       "⎜g⋅t + ──(z(t)), ──── + z(t)⎟\n",
       "⎝      dt         2         ⎠"
      ]
     },
     "execution_count": 70,
     "metadata": {},
     "output_type": "execute_result"
    }
   ],
   "source": [
    "eqz1 = integrate(z(t).diff(t, 2)+g, t)\n",
    "eqz2 = integrate(eqz1, t)\n",
    "eqz1, eqz2"
   ]
  },
  {
   "cell_type": "code",
   "execution_count": null,
   "metadata": {
    "collapsed": true
   },
   "outputs": [],
   "source": []
  }
 ],
 "metadata": {
  "kernelspec": {
   "display_name": "Python 2",
   "language": "python",
   "name": "python2"
  },
  "language_info": {
   "codemirror_mode": {
    "name": "ipython",
    "version": 2
   },
   "file_extension": ".py",
   "mimetype": "text/x-python",
   "name": "python",
   "nbconvert_exporter": "python",
   "pygments_lexer": "ipython2",
   "version": "2.7.13"
  }
 },
 "nbformat": 4,
 "nbformat_minor": 2
}
